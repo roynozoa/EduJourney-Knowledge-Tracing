{
 "cells": [
  {
   "cell_type": "markdown",
   "metadata": {},
   "source": [
    "## This notebook is our reseach for knowledge tracing using Tensorflow\n",
    "\n",
    "### ML Scientist/Engineer Team\n",
    "- Muhammad Adisatriyo Pratama\n",
    "- Jonathan Elloy"
   ]
  },
  {
   "cell_type": "markdown",
   "metadata": {},
   "source": [
    "## Import Library"
   ]
  },
  {
   "cell_type": "code",
   "execution_count": 1,
   "metadata": {},
   "outputs": [],
   "source": [
    "# file path\n",
    "# dataset on Google Cloud Storage\n",
    "from google.cloud import storage\n",
    "\n",
    "bucket_path = 'gs://bangkit-capstone0482-bucket/dataset/'\n"
   ]
  },
  {
   "cell_type": "code",
   "execution_count": 2,
   "metadata": {
    "_cell_guid": "b1076dfc-b9ad-4769-8c92-a6c4dae69d19",
    "_uuid": "8f2839f25d086af736a60e9eeb907d3b93b6e0e5",
    "execution": {
     "iopub.execute_input": "2020-12-03T19:43:49.134741Z",
     "iopub.status.busy": "2020-12-03T19:43:49.133895Z",
     "iopub.status.idle": "2020-12-03T19:43:49.142428Z",
     "shell.execute_reply": "2020-12-03T19:43:49.141681Z"
    },
    "papermill": {
     "duration": 0.074347,
     "end_time": "2020-12-03T19:43:49.142756",
     "exception": false,
     "start_time": "2020-12-03T19:43:49.068409",
     "status": "completed"
    },
    "tags": []
   },
   "outputs": [],
   "source": [
    "# import basic library\n",
    "import numpy as np \n",
    "import pandas as pd \n",
    "\n",
    "\n",
    "import os"
   ]
  },
  {
   "cell_type": "code",
   "execution_count": 3,
   "metadata": {
    "_cell_guid": "79c7e3d0-c299-4dcb-8224-4455121ee9b0",
    "_uuid": "d629ff2d2480ee46fbb7e2d37f6b5fab8052498a",
    "execution": {
     "iopub.execute_input": "2020-12-03T19:43:49.270490Z",
     "iopub.status.busy": "2020-12-03T19:43:49.269719Z",
     "iopub.status.idle": "2020-12-03T19:43:56.410280Z",
     "shell.execute_reply": "2020-12-03T19:43:56.409535Z"
    },
    "papermill": {
     "duration": 7.207106,
     "end_time": "2020-12-03T19:43:56.410411",
     "exception": false,
     "start_time": "2020-12-03T19:43:49.203305",
     "status": "completed"
    },
    "tags": []
   },
   "outputs": [],
   "source": [
    "# import Tensorflow and other essential ML \n",
    "from tensorflow.keras.layers import Dense , BatchNormalization , Dropout , Input\n",
    "from tensorflow.keras.models import Model , Sequential\n",
    "from tensorflow.keras.losses import binary_crossentropy\n",
    "from tensorflow.keras.optimizers import Adam\n",
    "from sklearn.model_selection import train_test_split\n",
    "from sklearn.metrics import roc_auc_score\n",
    "import matplotlib.pyplot as plt\n",
    "from sklearn.decomposition import PCA\n",
    "from sklearn.cluster import KMeans"
   ]
  },
  {
   "cell_type": "markdown",
   "metadata": {},
   "source": [
    "## Prepare Dataset"
   ]
  },
  {
   "cell_type": "markdown",
   "metadata": {},
   "source": [
    "### train data"
   ]
  },
  {
   "cell_type": "code",
   "execution_count": 4,
   "metadata": {
    "execution": {
     "iopub.execute_input": "2020-12-03T19:43:56.543345Z",
     "iopub.status.busy": "2020-12-03T19:43:56.542569Z",
     "iopub.status.idle": "2020-12-03T19:49:41.182829Z",
     "shell.execute_reply": "2020-12-03T19:49:41.181381Z"
    },
    "papermill": {
     "duration": 344.710973,
     "end_time": "2020-12-03T19:49:41.183026",
     "exception": false,
     "start_time": "2020-12-03T19:43:56.472053",
     "status": "completed"
    },
    "tags": []
   },
   "outputs": [],
   "source": [
    "# read csv and convert the datatype\n",
    "train=pd.read_csv(bucket_path + 'train.csv',dtype={'row_id':'int64',\\\n",
    "                                                   'timestamp':'int64',\\\n",
    "                                                   'user_id':'int32',\\\n",
    "                                                   'content_id':'int16',\\\n",
    "                                                   'content_type_id':'int8',\\\n",
    "                                                   'task_container_id':'int16',\\\n",
    "                                                   'user_answer':'int8',\\\n",
    "                                                   'answered_correctly':'int8',\\\n",
    "                                                   'prior_question_elapsed_time':'float32',\\\n",
    "                                                   'prior_question_had_explanation':'boolean'})"
   ]
  },
  {
   "cell_type": "code",
   "execution_count": 5,
   "metadata": {},
   "outputs": [
    {
     "data": {
      "text/html": [
       "<div>\n",
       "<style scoped>\n",
       "    .dataframe tbody tr th:only-of-type {\n",
       "        vertical-align: middle;\n",
       "    }\n",
       "\n",
       "    .dataframe tbody tr th {\n",
       "        vertical-align: top;\n",
       "    }\n",
       "\n",
       "    .dataframe thead th {\n",
       "        text-align: right;\n",
       "    }\n",
       "</style>\n",
       "<table border=\"1\" class=\"dataframe\">\n",
       "  <thead>\n",
       "    <tr style=\"text-align: right;\">\n",
       "      <th></th>\n",
       "      <th>row_id</th>\n",
       "      <th>timestamp</th>\n",
       "      <th>user_id</th>\n",
       "      <th>content_id</th>\n",
       "      <th>content_type_id</th>\n",
       "      <th>task_container_id</th>\n",
       "      <th>user_answer</th>\n",
       "      <th>answered_correctly</th>\n",
       "      <th>prior_question_elapsed_time</th>\n",
       "      <th>prior_question_had_explanation</th>\n",
       "    </tr>\n",
       "  </thead>\n",
       "  <tbody>\n",
       "    <tr>\n",
       "      <th>0</th>\n",
       "      <td>0</td>\n",
       "      <td>0</td>\n",
       "      <td>115</td>\n",
       "      <td>5692</td>\n",
       "      <td>0</td>\n",
       "      <td>1</td>\n",
       "      <td>3</td>\n",
       "      <td>1</td>\n",
       "      <td>NaN</td>\n",
       "      <td>&lt;NA&gt;</td>\n",
       "    </tr>\n",
       "    <tr>\n",
       "      <th>1</th>\n",
       "      <td>1</td>\n",
       "      <td>56943</td>\n",
       "      <td>115</td>\n",
       "      <td>5716</td>\n",
       "      <td>0</td>\n",
       "      <td>2</td>\n",
       "      <td>2</td>\n",
       "      <td>1</td>\n",
       "      <td>37000.0</td>\n",
       "      <td>False</td>\n",
       "    </tr>\n",
       "    <tr>\n",
       "      <th>2</th>\n",
       "      <td>2</td>\n",
       "      <td>118363</td>\n",
       "      <td>115</td>\n",
       "      <td>128</td>\n",
       "      <td>0</td>\n",
       "      <td>0</td>\n",
       "      <td>0</td>\n",
       "      <td>1</td>\n",
       "      <td>55000.0</td>\n",
       "      <td>False</td>\n",
       "    </tr>\n",
       "    <tr>\n",
       "      <th>3</th>\n",
       "      <td>3</td>\n",
       "      <td>131167</td>\n",
       "      <td>115</td>\n",
       "      <td>7860</td>\n",
       "      <td>0</td>\n",
       "      <td>3</td>\n",
       "      <td>0</td>\n",
       "      <td>1</td>\n",
       "      <td>19000.0</td>\n",
       "      <td>False</td>\n",
       "    </tr>\n",
       "    <tr>\n",
       "      <th>4</th>\n",
       "      <td>4</td>\n",
       "      <td>137965</td>\n",
       "      <td>115</td>\n",
       "      <td>7922</td>\n",
       "      <td>0</td>\n",
       "      <td>4</td>\n",
       "      <td>1</td>\n",
       "      <td>1</td>\n",
       "      <td>11000.0</td>\n",
       "      <td>False</td>\n",
       "    </tr>\n",
       "  </tbody>\n",
       "</table>\n",
       "</div>"
      ],
      "text/plain": [
       "   row_id  timestamp  user_id  content_id  content_type_id  task_container_id  \\\n",
       "0       0          0      115        5692                0                  1   \n",
       "1       1      56943      115        5716                0                  2   \n",
       "2       2     118363      115         128                0                  0   \n",
       "3       3     131167      115        7860                0                  3   \n",
       "4       4     137965      115        7922                0                  4   \n",
       "\n",
       "   user_answer  answered_correctly  prior_question_elapsed_time  \\\n",
       "0            3                   1                          NaN   \n",
       "1            2                   1                      37000.0   \n",
       "2            0                   1                      55000.0   \n",
       "3            0                   1                      19000.0   \n",
       "4            1                   1                      11000.0   \n",
       "\n",
       "   prior_question_had_explanation  \n",
       "0                            <NA>  \n",
       "1                           False  \n",
       "2                           False  \n",
       "3                           False  \n",
       "4                           False  "
      ]
     },
     "execution_count": 5,
     "metadata": {},
     "output_type": "execute_result"
    }
   ],
   "source": [
    "# check the data\n",
    "train.head()"
   ]
  },
  {
   "cell_type": "code",
   "execution_count": 6,
   "metadata": {
    "execution": {
     "iopub.execute_input": "2020-12-03T19:49:47.767102Z",
     "iopub.status.busy": "2020-12-03T19:49:47.766309Z",
     "iopub.status.idle": "2020-12-03T19:49:48.010837Z",
     "shell.execute_reply": "2020-12-03T19:49:48.010194Z"
    },
    "papermill": {
     "duration": 0.309218,
     "end_time": "2020-12-03T19:49:48.010980",
     "exception": false,
     "start_time": "2020-12-03T19:49:47.701762",
     "status": "completed"
    },
    "tags": []
   },
   "outputs": [],
   "source": [
    "# change bool to int\n",
    "train[\"prior_question_had_explanation\"] = train[\"prior_question_had_explanation\"].fillna(False).astype('int8')"
   ]
  },
  {
   "cell_type": "code",
   "execution_count": 7,
   "metadata": {},
   "outputs": [
    {
     "data": {
      "text/html": [
       "<div>\n",
       "<style scoped>\n",
       "    .dataframe tbody tr th:only-of-type {\n",
       "        vertical-align: middle;\n",
       "    }\n",
       "\n",
       "    .dataframe tbody tr th {\n",
       "        vertical-align: top;\n",
       "    }\n",
       "\n",
       "    .dataframe thead th {\n",
       "        text-align: right;\n",
       "    }\n",
       "</style>\n",
       "<table border=\"1\" class=\"dataframe\">\n",
       "  <thead>\n",
       "    <tr style=\"text-align: right;\">\n",
       "      <th></th>\n",
       "      <th>row_id</th>\n",
       "      <th>timestamp</th>\n",
       "      <th>user_id</th>\n",
       "      <th>content_id</th>\n",
       "      <th>content_type_id</th>\n",
       "      <th>task_container_id</th>\n",
       "      <th>user_answer</th>\n",
       "      <th>answered_correctly</th>\n",
       "      <th>prior_question_elapsed_time</th>\n",
       "      <th>prior_question_had_explanation</th>\n",
       "    </tr>\n",
       "  </thead>\n",
       "  <tbody>\n",
       "    <tr>\n",
       "      <th>0</th>\n",
       "      <td>0</td>\n",
       "      <td>0</td>\n",
       "      <td>115</td>\n",
       "      <td>5692</td>\n",
       "      <td>0</td>\n",
       "      <td>1</td>\n",
       "      <td>3</td>\n",
       "      <td>1</td>\n",
       "      <td>NaN</td>\n",
       "      <td>0</td>\n",
       "    </tr>\n",
       "    <tr>\n",
       "      <th>1</th>\n",
       "      <td>1</td>\n",
       "      <td>56943</td>\n",
       "      <td>115</td>\n",
       "      <td>5716</td>\n",
       "      <td>0</td>\n",
       "      <td>2</td>\n",
       "      <td>2</td>\n",
       "      <td>1</td>\n",
       "      <td>37000.0</td>\n",
       "      <td>0</td>\n",
       "    </tr>\n",
       "    <tr>\n",
       "      <th>2</th>\n",
       "      <td>2</td>\n",
       "      <td>118363</td>\n",
       "      <td>115</td>\n",
       "      <td>128</td>\n",
       "      <td>0</td>\n",
       "      <td>0</td>\n",
       "      <td>0</td>\n",
       "      <td>1</td>\n",
       "      <td>55000.0</td>\n",
       "      <td>0</td>\n",
       "    </tr>\n",
       "    <tr>\n",
       "      <th>3</th>\n",
       "      <td>3</td>\n",
       "      <td>131167</td>\n",
       "      <td>115</td>\n",
       "      <td>7860</td>\n",
       "      <td>0</td>\n",
       "      <td>3</td>\n",
       "      <td>0</td>\n",
       "      <td>1</td>\n",
       "      <td>19000.0</td>\n",
       "      <td>0</td>\n",
       "    </tr>\n",
       "    <tr>\n",
       "      <th>4</th>\n",
       "      <td>4</td>\n",
       "      <td>137965</td>\n",
       "      <td>115</td>\n",
       "      <td>7922</td>\n",
       "      <td>0</td>\n",
       "      <td>4</td>\n",
       "      <td>1</td>\n",
       "      <td>1</td>\n",
       "      <td>11000.0</td>\n",
       "      <td>0</td>\n",
       "    </tr>\n",
       "  </tbody>\n",
       "</table>\n",
       "</div>"
      ],
      "text/plain": [
       "   row_id  timestamp  user_id  content_id  content_type_id  task_container_id  \\\n",
       "0       0          0      115        5692                0                  1   \n",
       "1       1      56943      115        5716                0                  2   \n",
       "2       2     118363      115         128                0                  0   \n",
       "3       3     131167      115        7860                0                  3   \n",
       "4       4     137965      115        7922                0                  4   \n",
       "\n",
       "   user_answer  answered_correctly  prior_question_elapsed_time  \\\n",
       "0            3                   1                          NaN   \n",
       "1            2                   1                      37000.0   \n",
       "2            0                   1                      55000.0   \n",
       "3            0                   1                      19000.0   \n",
       "4            1                   1                      11000.0   \n",
       "\n",
       "   prior_question_had_explanation  \n",
       "0                               0  \n",
       "1                               0  \n",
       "2                               0  \n",
       "3                               0  \n",
       "4                               0  "
      ]
     },
     "execution_count": 7,
     "metadata": {},
     "output_type": "execute_result"
    }
   ],
   "source": [
    "train.head()"
   ]
  },
  {
   "cell_type": "code",
   "execution_count": 8,
   "metadata": {},
   "outputs": [
    {
     "data": {
      "text/html": [
       "<div>\n",
       "<style scoped>\n",
       "    .dataframe tbody tr th:only-of-type {\n",
       "        vertical-align: middle;\n",
       "    }\n",
       "\n",
       "    .dataframe tbody tr th {\n",
       "        vertical-align: top;\n",
       "    }\n",
       "\n",
       "    .dataframe thead th {\n",
       "        text-align: right;\n",
       "    }\n",
       "</style>\n",
       "<table border=\"1\" class=\"dataframe\">\n",
       "  <thead>\n",
       "    <tr style=\"text-align: right;\">\n",
       "      <th></th>\n",
       "      <th>row_id</th>\n",
       "      <th>timestamp</th>\n",
       "      <th>user_id</th>\n",
       "      <th>content_id</th>\n",
       "      <th>content_type_id</th>\n",
       "      <th>task_container_id</th>\n",
       "      <th>user_answer</th>\n",
       "      <th>answered_correctly</th>\n",
       "      <th>prior_question_elapsed_time</th>\n",
       "      <th>prior_question_had_explanation</th>\n",
       "    </tr>\n",
       "  </thead>\n",
       "  <tbody>\n",
       "    <tr>\n",
       "      <th>1</th>\n",
       "      <td>1</td>\n",
       "      <td>56943</td>\n",
       "      <td>115</td>\n",
       "      <td>5716</td>\n",
       "      <td>0</td>\n",
       "      <td>2</td>\n",
       "      <td>2</td>\n",
       "      <td>1</td>\n",
       "      <td>37000.0</td>\n",
       "      <td>0</td>\n",
       "    </tr>\n",
       "    <tr>\n",
       "      <th>2</th>\n",
       "      <td>2</td>\n",
       "      <td>118363</td>\n",
       "      <td>115</td>\n",
       "      <td>128</td>\n",
       "      <td>0</td>\n",
       "      <td>0</td>\n",
       "      <td>0</td>\n",
       "      <td>1</td>\n",
       "      <td>55000.0</td>\n",
       "      <td>0</td>\n",
       "    </tr>\n",
       "    <tr>\n",
       "      <th>3</th>\n",
       "      <td>3</td>\n",
       "      <td>131167</td>\n",
       "      <td>115</td>\n",
       "      <td>7860</td>\n",
       "      <td>0</td>\n",
       "      <td>3</td>\n",
       "      <td>0</td>\n",
       "      <td>1</td>\n",
       "      <td>19000.0</td>\n",
       "      <td>0</td>\n",
       "    </tr>\n",
       "    <tr>\n",
       "      <th>4</th>\n",
       "      <td>4</td>\n",
       "      <td>137965</td>\n",
       "      <td>115</td>\n",
       "      <td>7922</td>\n",
       "      <td>0</td>\n",
       "      <td>4</td>\n",
       "      <td>1</td>\n",
       "      <td>1</td>\n",
       "      <td>11000.0</td>\n",
       "      <td>0</td>\n",
       "    </tr>\n",
       "    <tr>\n",
       "      <th>5</th>\n",
       "      <td>5</td>\n",
       "      <td>157063</td>\n",
       "      <td>115</td>\n",
       "      <td>156</td>\n",
       "      <td>0</td>\n",
       "      <td>5</td>\n",
       "      <td>2</td>\n",
       "      <td>1</td>\n",
       "      <td>5000.0</td>\n",
       "      <td>0</td>\n",
       "    </tr>\n",
       "  </tbody>\n",
       "</table>\n",
       "</div>"
      ],
      "text/plain": [
       "   row_id  timestamp  user_id  content_id  content_type_id  task_container_id  \\\n",
       "1       1      56943      115        5716                0                  2   \n",
       "2       2     118363      115         128                0                  0   \n",
       "3       3     131167      115        7860                0                  3   \n",
       "4       4     137965      115        7922                0                  4   \n",
       "5       5     157063      115         156                0                  5   \n",
       "\n",
       "   user_answer  answered_correctly  prior_question_elapsed_time  \\\n",
       "1            2                   1                      37000.0   \n",
       "2            0                   1                      55000.0   \n",
       "3            0                   1                      19000.0   \n",
       "4            1                   1                      11000.0   \n",
       "5            2                   1                       5000.0   \n",
       "\n",
       "   prior_question_had_explanation  \n",
       "1                               0  \n",
       "2                               0  \n",
       "3                               0  \n",
       "4                               0  \n",
       "5                               0  "
      ]
     },
     "execution_count": 8,
     "metadata": {},
     "output_type": "execute_result"
    }
   ],
   "source": [
    "train.drop(0, axis=0, inplace=True)\n",
    "train.reset_index()\n",
    "train.head()"
   ]
  },
  {
   "cell_type": "code",
   "execution_count": 9,
   "metadata": {
    "execution": {
     "iopub.execute_input": "2020-12-03T19:49:52.545326Z",
     "iopub.status.busy": "2020-12-03T19:49:52.544598Z",
     "iopub.status.idle": "2020-12-03T19:49:52.564073Z",
     "shell.execute_reply": "2020-12-03T19:49:52.563367Z"
    },
    "papermill": {
     "duration": 0.087816,
     "end_time": "2020-12-03T19:49:52.564195",
     "exception": false,
     "start_time": "2020-12-03T19:49:52.476379",
     "status": "completed"
    },
    "tags": []
   },
   "outputs": [
    {
     "data": {
      "text/html": [
       "<div>\n",
       "<style scoped>\n",
       "    .dataframe tbody tr th:only-of-type {\n",
       "        vertical-align: middle;\n",
       "    }\n",
       "\n",
       "    .dataframe tbody tr th {\n",
       "        vertical-align: top;\n",
       "    }\n",
       "\n",
       "    .dataframe thead th {\n",
       "        text-align: right;\n",
       "    }\n",
       "</style>\n",
       "<table border=\"1\" class=\"dataframe\">\n",
       "  <thead>\n",
       "    <tr style=\"text-align: right;\">\n",
       "      <th></th>\n",
       "      <th>question_id</th>\n",
       "      <th>bundle_id</th>\n",
       "      <th>correct_answer</th>\n",
       "      <th>part</th>\n",
       "      <th>tags</th>\n",
       "    </tr>\n",
       "  </thead>\n",
       "  <tbody>\n",
       "    <tr>\n",
       "      <th>0</th>\n",
       "      <td>0</td>\n",
       "      <td>0</td>\n",
       "      <td>0</td>\n",
       "      <td>1</td>\n",
       "      <td>51 131 162 38</td>\n",
       "    </tr>\n",
       "    <tr>\n",
       "      <th>1</th>\n",
       "      <td>1</td>\n",
       "      <td>1</td>\n",
       "      <td>1</td>\n",
       "      <td>1</td>\n",
       "      <td>131 36 81</td>\n",
       "    </tr>\n",
       "    <tr>\n",
       "      <th>2</th>\n",
       "      <td>2</td>\n",
       "      <td>2</td>\n",
       "      <td>0</td>\n",
       "      <td>1</td>\n",
       "      <td>131 101 162 92</td>\n",
       "    </tr>\n",
       "    <tr>\n",
       "      <th>3</th>\n",
       "      <td>3</td>\n",
       "      <td>3</td>\n",
       "      <td>0</td>\n",
       "      <td>1</td>\n",
       "      <td>131 149 162 29</td>\n",
       "    </tr>\n",
       "    <tr>\n",
       "      <th>4</th>\n",
       "      <td>4</td>\n",
       "      <td>4</td>\n",
       "      <td>3</td>\n",
       "      <td>1</td>\n",
       "      <td>131 5 162 38</td>\n",
       "    </tr>\n",
       "  </tbody>\n",
       "</table>\n",
       "</div>"
      ],
      "text/plain": [
       "   question_id  bundle_id  correct_answer  part            tags\n",
       "0            0          0               0     1   51 131 162 38\n",
       "1            1          1               1     1       131 36 81\n",
       "2            2          2               0     1  131 101 162 92\n",
       "3            3          3               0     1  131 149 162 29\n",
       "4            4          4               3     1    131 5 162 38"
      ]
     },
     "execution_count": 9,
     "metadata": {},
     "output_type": "execute_result"
    }
   ],
   "source": [
    "# read question dataset\n",
    "question_df=pd.read_csv(bucket_path + \"questions.csv\")\n",
    "question_df.head()"
   ]
  },
  {
   "cell_type": "markdown",
   "metadata": {},
   "source": [
    "### Pre-process question_df"
   ]
  },
  {
   "cell_type": "code",
   "execution_count": 10,
   "metadata": {
    "execution": {
     "iopub.execute_input": "2020-12-03T19:49:52.698910Z",
     "iopub.status.busy": "2020-12-03T19:49:52.698000Z",
     "iopub.status.idle": "2020-12-03T19:49:52.701706Z",
     "shell.execute_reply": "2020-12-03T19:49:52.701020Z"
    },
    "papermill": {
     "duration": 0.07577,
     "end_time": "2020-12-03T19:49:52.701829",
     "exception": false,
     "start_time": "2020-12-03T19:49:52.626059",
     "status": "completed"
    },
    "tags": []
   },
   "outputs": [],
   "source": [
    "question_df[\"tags\"]=question_df[\"tags\"].astype(\"str\")"
   ]
  },
  {
   "cell_type": "code",
   "execution_count": 11,
   "metadata": {
    "execution": {
     "iopub.execute_input": "2020-12-03T19:49:52.846588Z",
     "iopub.status.busy": "2020-12-03T19:49:52.839068Z",
     "iopub.status.idle": "2020-12-03T19:49:52.850148Z",
     "shell.execute_reply": "2020-12-03T19:49:52.849541Z"
    },
    "papermill": {
     "duration": 0.08686,
     "end_time": "2020-12-03T19:49:52.850277",
     "exception": false,
     "start_time": "2020-12-03T19:49:52.763417",
     "status": "completed"
    },
    "tags": []
   },
   "outputs": [],
   "source": [
    "question_df[\"tags\"]= question_df.tags.str.split()"
   ]
  },
  {
   "cell_type": "code",
   "execution_count": 12,
   "metadata": {
    "execution": {
     "iopub.execute_input": "2020-12-03T19:49:52.983623Z",
     "iopub.status.busy": "2020-12-03T19:49:52.982699Z",
     "iopub.status.idle": "2020-12-03T19:49:52.986094Z",
     "shell.execute_reply": "2020-12-03T19:49:52.985460Z"
    },
    "papermill": {
     "duration": 0.07383,
     "end_time": "2020-12-03T19:49:52.986216",
     "exception": false,
     "start_time": "2020-12-03T19:49:52.912386",
     "status": "completed"
    },
    "tags": []
   },
   "outputs": [],
   "source": [
    "tags=[elt  for tag in question_df[\"tags\"].values for elt in tag]"
   ]
  },
  {
   "cell_type": "code",
   "execution_count": 13,
   "metadata": {
    "execution": {
     "iopub.execute_input": "2020-12-03T19:49:53.118477Z",
     "iopub.status.busy": "2020-12-03T19:49:53.117694Z",
     "iopub.status.idle": "2020-12-03T19:49:53.121135Z",
     "shell.execute_reply": "2020-12-03T19:49:53.120340Z"
    },
    "papermill": {
     "duration": 0.072017,
     "end_time": "2020-12-03T19:49:53.121262",
     "exception": false,
     "start_time": "2020-12-03T19:49:53.049245",
     "status": "completed"
    },
    "tags": []
   },
   "outputs": [],
   "source": [
    "tags=list(set(tags))"
   ]
  },
  {
   "cell_type": "code",
   "execution_count": 14,
   "metadata": {
    "execution": {
     "iopub.execute_input": "2020-12-03T19:49:53.280502Z",
     "iopub.status.busy": "2020-12-03T19:49:53.259819Z",
     "iopub.status.idle": "2020-12-03T19:49:55.300527Z",
     "shell.execute_reply": "2020-12-03T19:49:55.299838Z"
    },
    "papermill": {
     "duration": 2.116659,
     "end_time": "2020-12-03T19:49:55.300660",
     "exception": false,
     "start_time": "2020-12-03T19:49:53.184001",
     "status": "completed"
    },
    "tags": []
   },
   "outputs": [],
   "source": [
    "df=pd.DataFrame({elt:[1 if elt in li else 0 for li in question_df[\"tags\"]] for elt in tags})"
   ]
  },
  {
   "cell_type": "markdown",
   "metadata": {},
   "source": [
    "### Cluster the question tags"
   ]
  },
  {
   "cell_type": "code",
   "execution_count": 15,
   "metadata": {
    "execution": {
     "iopub.execute_input": "2020-12-03T19:49:55.431975Z",
     "iopub.status.busy": "2020-12-03T19:49:55.431035Z",
     "iopub.status.idle": "2020-12-03T19:49:55.434277Z",
     "shell.execute_reply": "2020-12-03T19:49:55.433637Z"
    },
    "papermill": {
     "duration": 0.070708,
     "end_time": "2020-12-03T19:49:55.434397",
     "exception": false,
     "start_time": "2020-12-03T19:49:55.363689",
     "status": "completed"
    },
    "tags": []
   },
   "outputs": [],
   "source": [
    "kmeans = KMeans(n_clusters=10)"
   ]
  },
  {
   "cell_type": "code",
   "execution_count": 16,
   "metadata": {
    "execution": {
     "iopub.execute_input": "2020-12-03T19:49:55.570892Z",
     "iopub.status.busy": "2020-12-03T19:49:55.570140Z",
     "iopub.status.idle": "2020-12-03T19:49:56.881384Z",
     "shell.execute_reply": "2020-12-03T19:49:56.882109Z"
    },
    "papermill": {
     "duration": 1.385272,
     "end_time": "2020-12-03T19:49:56.882292",
     "exception": false,
     "start_time": "2020-12-03T19:49:55.497020",
     "status": "completed"
    },
    "tags": []
   },
   "outputs": [
    {
     "data": {
      "text/plain": [
       "KMeans(n_clusters=10)"
      ]
     },
     "execution_count": 16,
     "metadata": {},
     "output_type": "execute_result"
    }
   ],
   "source": [
    "kmeans.fit(df)"
   ]
  },
  {
   "cell_type": "code",
   "execution_count": 17,
   "metadata": {
    "execution": {
     "iopub.execute_input": "2020-12-03T19:49:57.044657Z",
     "iopub.status.busy": "2020-12-03T19:49:57.042829Z",
     "iopub.status.idle": "2020-12-03T19:49:57.046189Z",
     "shell.execute_reply": "2020-12-03T19:49:57.045511Z"
    },
    "papermill": {
     "duration": 0.086998,
     "end_time": "2020-12-03T19:49:57.046329",
     "exception": false,
     "start_time": "2020-12-03T19:49:56.959331",
     "status": "completed"
    },
    "tags": []
   },
   "outputs": [],
   "source": [
    "question_df[\"tags\"] = kmeans.labels_"
   ]
  },
  {
   "cell_type": "code",
   "execution_count": 18,
   "metadata": {},
   "outputs": [
    {
     "data": {
      "text/html": [
       "<div>\n",
       "<style scoped>\n",
       "    .dataframe tbody tr th:only-of-type {\n",
       "        vertical-align: middle;\n",
       "    }\n",
       "\n",
       "    .dataframe tbody tr th {\n",
       "        vertical-align: top;\n",
       "    }\n",
       "\n",
       "    .dataframe thead th {\n",
       "        text-align: right;\n",
       "    }\n",
       "</style>\n",
       "<table border=\"1\" class=\"dataframe\">\n",
       "  <thead>\n",
       "    <tr style=\"text-align: right;\">\n",
       "      <th></th>\n",
       "      <th>question_id</th>\n",
       "      <th>bundle_id</th>\n",
       "      <th>correct_answer</th>\n",
       "      <th>part</th>\n",
       "      <th>tags</th>\n",
       "    </tr>\n",
       "  </thead>\n",
       "  <tbody>\n",
       "    <tr>\n",
       "      <th>0</th>\n",
       "      <td>0</td>\n",
       "      <td>0</td>\n",
       "      <td>0</td>\n",
       "      <td>1</td>\n",
       "      <td>4</td>\n",
       "    </tr>\n",
       "    <tr>\n",
       "      <th>1</th>\n",
       "      <td>1</td>\n",
       "      <td>1</td>\n",
       "      <td>1</td>\n",
       "      <td>1</td>\n",
       "      <td>6</td>\n",
       "    </tr>\n",
       "    <tr>\n",
       "      <th>2</th>\n",
       "      <td>2</td>\n",
       "      <td>2</td>\n",
       "      <td>0</td>\n",
       "      <td>1</td>\n",
       "      <td>3</td>\n",
       "    </tr>\n",
       "    <tr>\n",
       "      <th>3</th>\n",
       "      <td>3</td>\n",
       "      <td>3</td>\n",
       "      <td>0</td>\n",
       "      <td>1</td>\n",
       "      <td>4</td>\n",
       "    </tr>\n",
       "    <tr>\n",
       "      <th>4</th>\n",
       "      <td>4</td>\n",
       "      <td>4</td>\n",
       "      <td>3</td>\n",
       "      <td>1</td>\n",
       "      <td>4</td>\n",
       "    </tr>\n",
       "  </tbody>\n",
       "</table>\n",
       "</div>"
      ],
      "text/plain": [
       "   question_id  bundle_id  correct_answer  part  tags\n",
       "0            0          0               0     1     4\n",
       "1            1          1               1     1     6\n",
       "2            2          2               0     1     3\n",
       "3            3          3               0     1     4\n",
       "4            4          4               3     1     4"
      ]
     },
     "execution_count": 18,
     "metadata": {},
     "output_type": "execute_result"
    }
   ],
   "source": [
    "# question after clustering\n",
    "question_df.head()"
   ]
  },
  {
   "cell_type": "code",
   "execution_count": 19,
   "metadata": {},
   "outputs": [
    {
     "data": {
      "text/html": [
       "<div>\n",
       "<style scoped>\n",
       "    .dataframe tbody tr th:only-of-type {\n",
       "        vertical-align: middle;\n",
       "    }\n",
       "\n",
       "    .dataframe tbody tr th {\n",
       "        vertical-align: top;\n",
       "    }\n",
       "\n",
       "    .dataframe thead th {\n",
       "        text-align: right;\n",
       "    }\n",
       "</style>\n",
       "<table border=\"1\" class=\"dataframe\">\n",
       "  <thead>\n",
       "    <tr style=\"text-align: right;\">\n",
       "      <th></th>\n",
       "      <th>question_id</th>\n",
       "      <th>bundle_id</th>\n",
       "      <th>correct_answer</th>\n",
       "      <th>part</th>\n",
       "      <th>tags</th>\n",
       "    </tr>\n",
       "  </thead>\n",
       "  <tbody>\n",
       "    <tr>\n",
       "      <th>0</th>\n",
       "      <td>0</td>\n",
       "      <td>0</td>\n",
       "      <td>0</td>\n",
       "      <td>1</td>\n",
       "      <td>4</td>\n",
       "    </tr>\n",
       "    <tr>\n",
       "      <th>1</th>\n",
       "      <td>1</td>\n",
       "      <td>1</td>\n",
       "      <td>1</td>\n",
       "      <td>1</td>\n",
       "      <td>6</td>\n",
       "    </tr>\n",
       "    <tr>\n",
       "      <th>2</th>\n",
       "      <td>2</td>\n",
       "      <td>2</td>\n",
       "      <td>0</td>\n",
       "      <td>1</td>\n",
       "      <td>3</td>\n",
       "    </tr>\n",
       "    <tr>\n",
       "      <th>3</th>\n",
       "      <td>3</td>\n",
       "      <td>3</td>\n",
       "      <td>0</td>\n",
       "      <td>1</td>\n",
       "      <td>4</td>\n",
       "    </tr>\n",
       "    <tr>\n",
       "      <th>4</th>\n",
       "      <td>4</td>\n",
       "      <td>4</td>\n",
       "      <td>3</td>\n",
       "      <td>1</td>\n",
       "      <td>4</td>\n",
       "    </tr>\n",
       "    <tr>\n",
       "      <th>...</th>\n",
       "      <td>...</td>\n",
       "      <td>...</td>\n",
       "      <td>...</td>\n",
       "      <td>...</td>\n",
       "      <td>...</td>\n",
       "    </tr>\n",
       "    <tr>\n",
       "      <th>13518</th>\n",
       "      <td>13518</td>\n",
       "      <td>13518</td>\n",
       "      <td>3</td>\n",
       "      <td>5</td>\n",
       "      <td>0</td>\n",
       "    </tr>\n",
       "    <tr>\n",
       "      <th>13519</th>\n",
       "      <td>13519</td>\n",
       "      <td>13519</td>\n",
       "      <td>3</td>\n",
       "      <td>5</td>\n",
       "      <td>0</td>\n",
       "    </tr>\n",
       "    <tr>\n",
       "      <th>13520</th>\n",
       "      <td>13520</td>\n",
       "      <td>13520</td>\n",
       "      <td>2</td>\n",
       "      <td>5</td>\n",
       "      <td>0</td>\n",
       "    </tr>\n",
       "    <tr>\n",
       "      <th>13521</th>\n",
       "      <td>13521</td>\n",
       "      <td>13521</td>\n",
       "      <td>0</td>\n",
       "      <td>5</td>\n",
       "      <td>0</td>\n",
       "    </tr>\n",
       "    <tr>\n",
       "      <th>13522</th>\n",
       "      <td>13522</td>\n",
       "      <td>13522</td>\n",
       "      <td>3</td>\n",
       "      <td>5</td>\n",
       "      <td>0</td>\n",
       "    </tr>\n",
       "  </tbody>\n",
       "</table>\n",
       "<p>13523 rows × 5 columns</p>\n",
       "</div>"
      ],
      "text/plain": [
       "       question_id  bundle_id  correct_answer  part  tags\n",
       "0                0          0               0     1     4\n",
       "1                1          1               1     1     6\n",
       "2                2          2               0     1     3\n",
       "3                3          3               0     1     4\n",
       "4                4          4               3     1     4\n",
       "...            ...        ...             ...   ...   ...\n",
       "13518        13518      13518               3     5     0\n",
       "13519        13519      13519               3     5     0\n",
       "13520        13520      13520               2     5     0\n",
       "13521        13521      13521               0     5     0\n",
       "13522        13522      13522               3     5     0\n",
       "\n",
       "[13523 rows x 5 columns]"
      ]
     },
     "execution_count": 19,
     "metadata": {},
     "output_type": "execute_result"
    }
   ],
   "source": [
    "question_df"
   ]
  },
  {
   "cell_type": "code",
   "execution_count": 20,
   "metadata": {
    "execution": {
     "iopub.execute_input": "2020-12-03T19:49:57.182361Z",
     "iopub.status.busy": "2020-12-03T19:49:57.181582Z",
     "iopub.status.idle": "2020-12-03T19:49:57.184813Z",
     "shell.execute_reply": "2020-12-03T19:49:57.184043Z"
    },
    "papermill": {
     "duration": 0.071855,
     "end_time": "2020-12-03T19:49:57.184931",
     "exception": false,
     "start_time": "2020-12-03T19:49:57.113076",
     "status": "completed"
    },
    "tags": []
   },
   "outputs": [],
   "source": [
    "del(df)"
   ]
  },
  {
   "cell_type": "code",
   "execution_count": 21,
   "metadata": {
    "execution": {
     "iopub.execute_input": "2020-12-03T19:49:57.320114Z",
     "iopub.status.busy": "2020-12-03T19:49:57.319012Z",
     "iopub.status.idle": "2020-12-03T19:49:57.323185Z",
     "shell.execute_reply": "2020-12-03T19:49:57.323786Z"
    },
    "papermill": {
     "duration": 0.075044,
     "end_time": "2020-12-03T19:49:57.323938",
     "exception": false,
     "start_time": "2020-12-03T19:49:57.248894",
     "status": "completed"
    },
    "tags": []
   },
   "outputs": [],
   "source": [
    "del(question_df[\"bundle_id\"])\n",
    "del(question_df[\"correct_answer\"])\n",
    "del(question_df[\"part\"])"
   ]
  },
  {
   "cell_type": "code",
   "execution_count": 22,
   "metadata": {},
   "outputs": [
    {
     "data": {
      "text/html": [
       "<div>\n",
       "<style scoped>\n",
       "    .dataframe tbody tr th:only-of-type {\n",
       "        vertical-align: middle;\n",
       "    }\n",
       "\n",
       "    .dataframe tbody tr th {\n",
       "        vertical-align: top;\n",
       "    }\n",
       "\n",
       "    .dataframe thead th {\n",
       "        text-align: right;\n",
       "    }\n",
       "</style>\n",
       "<table border=\"1\" class=\"dataframe\">\n",
       "  <thead>\n",
       "    <tr style=\"text-align: right;\">\n",
       "      <th></th>\n",
       "      <th>question_id</th>\n",
       "      <th>tags</th>\n",
       "    </tr>\n",
       "  </thead>\n",
       "  <tbody>\n",
       "    <tr>\n",
       "      <th>0</th>\n",
       "      <td>0</td>\n",
       "      <td>4</td>\n",
       "    </tr>\n",
       "    <tr>\n",
       "      <th>1</th>\n",
       "      <td>1</td>\n",
       "      <td>6</td>\n",
       "    </tr>\n",
       "    <tr>\n",
       "      <th>2</th>\n",
       "      <td>2</td>\n",
       "      <td>3</td>\n",
       "    </tr>\n",
       "    <tr>\n",
       "      <th>3</th>\n",
       "      <td>3</td>\n",
       "      <td>4</td>\n",
       "    </tr>\n",
       "    <tr>\n",
       "      <th>4</th>\n",
       "      <td>4</td>\n",
       "      <td>4</td>\n",
       "    </tr>\n",
       "  </tbody>\n",
       "</table>\n",
       "</div>"
      ],
      "text/plain": [
       "   question_id  tags\n",
       "0            0     4\n",
       "1            1     6\n",
       "2            2     3\n",
       "3            3     4\n",
       "4            4     4"
      ]
     },
     "execution_count": 22,
     "metadata": {},
     "output_type": "execute_result"
    }
   ],
   "source": [
    "question_df.head()"
   ]
  },
  {
   "cell_type": "code",
   "execution_count": 23,
   "metadata": {
    "execution": {
     "iopub.execute_input": "2020-12-03T19:49:57.601597Z",
     "iopub.status.busy": "2020-12-03T19:49:57.600849Z",
     "iopub.status.idle": "2020-12-03T19:49:57.603752Z",
     "shell.execute_reply": "2020-12-03T19:49:57.603022Z"
    },
    "papermill": {
     "duration": 0.074467,
     "end_time": "2020-12-03T19:49:57.603877",
     "exception": false,
     "start_time": "2020-12-03T19:49:57.529410",
     "status": "completed"
    },
    "tags": []
   },
   "outputs": [],
   "source": [
    "question_df.rename(columns={\"question_id\":\"content_id\"},inplace=True)"
   ]
  },
  {
   "cell_type": "code",
   "execution_count": 24,
   "metadata": {
    "execution": {
     "iopub.execute_input": "2020-12-03T19:49:57.738914Z",
     "iopub.status.busy": "2020-12-03T19:49:57.738173Z",
     "iopub.status.idle": "2020-12-03T19:49:57.741241Z",
     "shell.execute_reply": "2020-12-03T19:49:57.741770Z"
    },
    "papermill": {
     "duration": 0.073339,
     "end_time": "2020-12-03T19:49:57.741922",
     "exception": false,
     "start_time": "2020-12-03T19:49:57.668583",
     "status": "completed"
    },
    "tags": []
   },
   "outputs": [],
   "source": [
    "question_df.set_index(\"content_id\" , inplace = True)"
   ]
  },
  {
   "cell_type": "markdown",
   "metadata": {},
   "source": [
    "### Merge question_df with train data"
   ]
  },
  {
   "cell_type": "code",
   "execution_count": 25,
   "metadata": {
    "execution": {
     "iopub.execute_input": "2020-12-03T19:49:57.877651Z",
     "iopub.status.busy": "2020-12-03T19:49:57.876858Z",
     "iopub.status.idle": "2020-12-03T19:50:03.167990Z",
     "shell.execute_reply": "2020-12-03T19:50:03.167295Z"
    },
    "papermill": {
     "duration": 5.361818,
     "end_time": "2020-12-03T19:50:03.168122",
     "exception": false,
     "start_time": "2020-12-03T19:49:57.806304",
     "status": "completed"
    },
    "tags": []
   },
   "outputs": [],
   "source": [
    "train = pd.concat([train.reset_index(drop=True),question_df.reindex(train[\"content_id\"].values)\\\n",
    "                  .reset_index(drop=True)] , axis=1)"
   ]
  },
  {
   "cell_type": "code",
   "execution_count": 26,
   "metadata": {},
   "outputs": [
    {
     "data": {
      "text/html": [
       "<div>\n",
       "<style scoped>\n",
       "    .dataframe tbody tr th:only-of-type {\n",
       "        vertical-align: middle;\n",
       "    }\n",
       "\n",
       "    .dataframe tbody tr th {\n",
       "        vertical-align: top;\n",
       "    }\n",
       "\n",
       "    .dataframe thead th {\n",
       "        text-align: right;\n",
       "    }\n",
       "</style>\n",
       "<table border=\"1\" class=\"dataframe\">\n",
       "  <thead>\n",
       "    <tr style=\"text-align: right;\">\n",
       "      <th></th>\n",
       "      <th>row_id</th>\n",
       "      <th>timestamp</th>\n",
       "      <th>user_id</th>\n",
       "      <th>content_id</th>\n",
       "      <th>content_type_id</th>\n",
       "      <th>task_container_id</th>\n",
       "      <th>user_answer</th>\n",
       "      <th>answered_correctly</th>\n",
       "      <th>prior_question_elapsed_time</th>\n",
       "      <th>prior_question_had_explanation</th>\n",
       "      <th>tags</th>\n",
       "    </tr>\n",
       "  </thead>\n",
       "  <tbody>\n",
       "    <tr>\n",
       "      <th>0</th>\n",
       "      <td>1</td>\n",
       "      <td>56943</td>\n",
       "      <td>115</td>\n",
       "      <td>5716</td>\n",
       "      <td>0</td>\n",
       "      <td>2</td>\n",
       "      <td>2</td>\n",
       "      <td>1</td>\n",
       "      <td>37000.0</td>\n",
       "      <td>0</td>\n",
       "      <td>0.0</td>\n",
       "    </tr>\n",
       "    <tr>\n",
       "      <th>1</th>\n",
       "      <td>2</td>\n",
       "      <td>118363</td>\n",
       "      <td>115</td>\n",
       "      <td>128</td>\n",
       "      <td>0</td>\n",
       "      <td>0</td>\n",
       "      <td>0</td>\n",
       "      <td>1</td>\n",
       "      <td>55000.0</td>\n",
       "      <td>0</td>\n",
       "      <td>3.0</td>\n",
       "    </tr>\n",
       "    <tr>\n",
       "      <th>2</th>\n",
       "      <td>3</td>\n",
       "      <td>131167</td>\n",
       "      <td>115</td>\n",
       "      <td>7860</td>\n",
       "      <td>0</td>\n",
       "      <td>3</td>\n",
       "      <td>0</td>\n",
       "      <td>1</td>\n",
       "      <td>19000.0</td>\n",
       "      <td>0</td>\n",
       "      <td>6.0</td>\n",
       "    </tr>\n",
       "    <tr>\n",
       "      <th>3</th>\n",
       "      <td>4</td>\n",
       "      <td>137965</td>\n",
       "      <td>115</td>\n",
       "      <td>7922</td>\n",
       "      <td>0</td>\n",
       "      <td>4</td>\n",
       "      <td>1</td>\n",
       "      <td>1</td>\n",
       "      <td>11000.0</td>\n",
       "      <td>0</td>\n",
       "      <td>3.0</td>\n",
       "    </tr>\n",
       "    <tr>\n",
       "      <th>4</th>\n",
       "      <td>5</td>\n",
       "      <td>157063</td>\n",
       "      <td>115</td>\n",
       "      <td>156</td>\n",
       "      <td>0</td>\n",
       "      <td>5</td>\n",
       "      <td>2</td>\n",
       "      <td>1</td>\n",
       "      <td>5000.0</td>\n",
       "      <td>0</td>\n",
       "      <td>4.0</td>\n",
       "    </tr>\n",
       "  </tbody>\n",
       "</table>\n",
       "</div>"
      ],
      "text/plain": [
       "   row_id  timestamp  user_id  content_id  content_type_id  task_container_id  \\\n",
       "0       1      56943      115        5716                0                  2   \n",
       "1       2     118363      115         128                0                  0   \n",
       "2       3     131167      115        7860                0                  3   \n",
       "3       4     137965      115        7922                0                  4   \n",
       "4       5     157063      115         156                0                  5   \n",
       "\n",
       "   user_answer  answered_correctly  prior_question_elapsed_time  \\\n",
       "0            2                   1                      37000.0   \n",
       "1            0                   1                      55000.0   \n",
       "2            0                   1                      19000.0   \n",
       "3            1                   1                      11000.0   \n",
       "4            2                   1                       5000.0   \n",
       "\n",
       "   prior_question_had_explanation  tags  \n",
       "0                               0   0.0  \n",
       "1                               0   3.0  \n",
       "2                               0   6.0  \n",
       "3                               0   3.0  \n",
       "4                               0   4.0  "
      ]
     },
     "execution_count": 26,
     "metadata": {},
     "output_type": "execute_result"
    }
   ],
   "source": [
    "train.head()"
   ]
  },
  {
   "cell_type": "markdown",
   "metadata": {},
   "source": [
    "### Create user df"
   ]
  },
  {
   "cell_type": "code",
   "execution_count": 27,
   "metadata": {
    "execution": {
     "iopub.execute_input": "2020-12-03T19:50:03.308098Z",
     "iopub.status.busy": "2020-12-03T19:50:03.307232Z",
     "iopub.status.idle": "2020-12-03T19:50:12.699970Z",
     "shell.execute_reply": "2020-12-03T19:50:12.699118Z"
    },
    "papermill": {
     "duration": 9.466393,
     "end_time": "2020-12-03T19:50:12.700165",
     "exception": false,
     "start_time": "2020-12-03T19:50:03.233772",
     "status": "completed"
    },
    "tags": []
   },
   "outputs": [],
   "source": [
    "users=train[[\"user_id\",\"tags\",\"answered_correctly\"]].\\\n",
    "groupby([\"user_id\",\"tags\"]).agg({\"answered_correctly\":[\"mean\",\"count\"]})"
   ]
  },
  {
   "cell_type": "code",
   "execution_count": 28,
   "metadata": {
    "execution": {
     "iopub.execute_input": "2020-12-03T19:50:12.848896Z",
     "iopub.status.busy": "2020-12-03T19:50:12.847972Z",
     "iopub.status.idle": "2020-12-03T19:50:12.851247Z",
     "shell.execute_reply": "2020-12-03T19:50:12.850625Z"
    },
    "papermill": {
     "duration": 0.078565,
     "end_time": "2020-12-03T19:50:12.851396",
     "exception": false,
     "start_time": "2020-12-03T19:50:12.772831",
     "status": "completed"
    },
    "tags": []
   },
   "outputs": [],
   "source": [
    "users.columns=[\"mean_user\",\"count_user\"]"
   ]
  },
  {
   "cell_type": "code",
   "execution_count": 29,
   "metadata": {
    "execution": {
     "iopub.execute_input": "2020-12-03T19:50:13.399042Z",
     "iopub.status.busy": "2020-12-03T19:50:13.397961Z",
     "iopub.status.idle": "2020-12-03T19:50:13.797228Z",
     "shell.execute_reply": "2020-12-03T19:50:13.796382Z"
    },
    "papermill": {
     "duration": 0.47512,
     "end_time": "2020-12-03T19:50:13.797370",
     "exception": false,
     "start_time": "2020-12-03T19:50:13.322250",
     "status": "completed"
    },
    "tags": []
   },
   "outputs": [],
   "source": [
    "us=users.copy()"
   ]
  },
  {
   "cell_type": "code",
   "execution_count": 30,
   "metadata": {
    "execution": {
     "iopub.execute_input": "2020-12-03T19:50:13.970713Z",
     "iopub.status.busy": "2020-12-03T19:50:13.969915Z",
     "iopub.status.idle": "2020-12-03T19:50:13.979676Z",
     "shell.execute_reply": "2020-12-03T19:50:13.980226Z"
    },
    "papermill": {
     "duration": 0.111345,
     "end_time": "2020-12-03T19:50:13.980425",
     "exception": false,
     "start_time": "2020-12-03T19:50:13.869080",
     "status": "completed"
    },
    "tags": []
   },
   "outputs": [],
   "source": [
    "us=us.reset_index(drop=False)"
   ]
  },
  {
   "cell_type": "code",
   "execution_count": 31,
   "metadata": {
    "execution": {
     "iopub.execute_input": "2020-12-03T19:50:14.134008Z",
     "iopub.status.busy": "2020-12-03T19:50:14.128866Z",
     "iopub.status.idle": "2020-12-03T19:50:14.157875Z",
     "shell.execute_reply": "2020-12-03T19:50:14.157084Z"
    },
    "papermill": {
     "duration": 0.108619,
     "end_time": "2020-12-03T19:50:14.157999",
     "exception": false,
     "start_time": "2020-12-03T19:50:14.049380",
     "status": "completed"
    },
    "tags": []
   },
   "outputs": [],
   "source": [
    "us=us[[\"user_id\",\"tags\"]]"
   ]
  },
  {
   "cell_type": "code",
   "execution_count": 32,
   "metadata": {
    "execution": {
     "iopub.execute_input": "2020-12-03T19:50:14.324109Z",
     "iopub.status.busy": "2020-12-03T19:50:14.318901Z",
     "iopub.status.idle": "2020-12-03T19:50:14.334239Z",
     "shell.execute_reply": "2020-12-03T19:50:14.333669Z"
    },
    "papermill": {
     "duration": 0.108353,
     "end_time": "2020-12-03T19:50:14.334369",
     "exception": false,
     "start_time": "2020-12-03T19:50:14.226016",
     "status": "completed"
    },
    "tags": []
   },
   "outputs": [],
   "source": [
    "us=us.pivot(index=\"user_id\",columns=\"tags\",values=\"tags\")"
   ]
  },
  {
   "cell_type": "code",
   "execution_count": 33,
   "metadata": {
    "execution": {
     "iopub.execute_input": "2020-12-03T19:50:14.607782Z",
     "iopub.status.busy": "2020-12-03T19:50:14.545479Z",
     "iopub.status.idle": "2020-12-03T19:50:18.281157Z",
     "shell.execute_reply": "2020-12-03T19:50:18.282231Z"
    },
    "papermill": {
     "duration": 3.879991,
     "end_time": "2020-12-03T19:50:18.282530",
     "exception": false,
     "start_time": "2020-12-03T19:50:14.402539",
     "status": "completed"
    },
    "tags": []
   },
   "outputs": [],
   "source": [
    "question=train[[\"content_id\",\"answered_correctly\"]].\\\n",
    "groupby([\"content_id\"]).agg({\"answered_correctly\":[\"mean\"]})"
   ]
  },
  {
   "cell_type": "code",
   "execution_count": 34,
   "metadata": {
    "execution": {
     "iopub.execute_input": "2020-12-03T19:50:18.458731Z",
     "iopub.status.busy": "2020-12-03T19:50:18.457697Z",
     "iopub.status.idle": "2020-12-03T19:50:18.461173Z",
     "shell.execute_reply": "2020-12-03T19:50:18.460534Z"
    },
    "papermill": {
     "duration": 0.081618,
     "end_time": "2020-12-03T19:50:18.461322",
     "exception": false,
     "start_time": "2020-12-03T19:50:18.379704",
     "status": "completed"
    },
    "tags": []
   },
   "outputs": [],
   "source": [
    "question.columns=[\"mean_question\"]"
   ]
  },
  {
   "cell_type": "code",
   "execution_count": 35,
   "metadata": {
    "execution": {
     "iopub.execute_input": "2020-12-03T19:50:19.941980Z",
     "iopub.status.busy": "2020-12-03T19:50:19.941169Z",
     "iopub.status.idle": "2020-12-03T19:50:30.097394Z",
     "shell.execute_reply": "2020-12-03T19:50:30.096693Z"
    },
    "papermill": {
     "duration": 10.237035,
     "end_time": "2020-12-03T19:50:30.097557",
     "exception": false,
     "start_time": "2020-12-03T19:50:19.860522",
     "status": "completed"
    },
    "tags": []
   },
   "outputs": [],
   "source": [
    "tr=train.sample(frac=0.2,random_state=1)"
   ]
  },
  {
   "cell_type": "code",
   "execution_count": 36,
   "metadata": {
    "execution": {
     "iopub.execute_input": "2020-12-03T19:50:30.423226Z",
     "iopub.status.busy": "2020-12-03T19:50:30.422408Z",
     "iopub.status.idle": "2020-12-03T19:50:36.928103Z",
     "shell.execute_reply": "2020-12-03T19:50:36.927404Z"
    },
    "papermill": {
     "duration": 6.582859,
     "end_time": "2020-12-03T19:50:36.928260",
     "exception": false,
     "start_time": "2020-12-03T19:50:30.345401",
     "status": "completed"
    },
    "tags": []
   },
   "outputs": [],
   "source": [
    "tr = tr.merge(users , how=\"left\" ,left_on=[\"user_id\",\"tags\"] ,right_index=True)"
   ]
  },
  {
   "cell_type": "code",
   "execution_count": 37,
   "metadata": {
    "execution": {
     "iopub.execute_input": "2020-12-03T19:50:37.086586Z",
     "iopub.status.busy": "2020-12-03T19:50:37.085011Z",
     "iopub.status.idle": "2020-12-03T19:50:38.110077Z",
     "shell.execute_reply": "2020-12-03T19:50:38.109358Z"
    },
    "papermill": {
     "duration": 1.107538,
     "end_time": "2020-12-03T19:50:38.110221",
     "exception": false,
     "start_time": "2020-12-03T19:50:37.002683",
     "status": "completed"
    },
    "tags": []
   },
   "outputs": [],
   "source": [
    "tr = pd.concat([tr.reset_index(drop=True),question.reindex(tr['content_id'].values).reset_index(\\\n",
    "                                                                                               drop=True)],axis=1)"
   ]
  },
  {
   "cell_type": "code",
   "execution_count": 38,
   "metadata": {
    "execution": {
     "iopub.execute_input": "2020-12-03T19:50:38.944366Z",
     "iopub.status.busy": "2020-12-03T19:50:38.940801Z",
     "iopub.status.idle": "2020-12-03T19:50:38.961927Z",
     "shell.execute_reply": "2020-12-03T19:50:38.961211Z"
    },
    "papermill": {
     "duration": 0.101931,
     "end_time": "2020-12-03T19:50:38.962074",
     "exception": false,
     "start_time": "2020-12-03T19:50:38.860143",
     "status": "completed"
    },
    "tags": []
   },
   "outputs": [],
   "source": [
    "del(tr[\"row_id\"])\n",
    "del(tr[\"user_id\"])\n",
    "del(tr[\"content_id\"])\n",
    "del(tr[\"content_type_id\"])\n",
    "del(tr[\"user_answer\"])\n",
    "del(tr[\"task_container_id\"])\n",
    "del(tr[\"tags\"])"
   ]
  },
  {
   "cell_type": "code",
   "execution_count": 39,
   "metadata": {
    "execution": {
     "iopub.execute_input": "2020-12-03T19:50:40.556660Z",
     "iopub.status.busy": "2020-12-03T19:50:40.555815Z",
     "iopub.status.idle": "2020-12-03T19:50:40.559415Z",
     "shell.execute_reply": "2020-12-03T19:50:40.558797Z"
    },
    "papermill": {
     "duration": 0.087519,
     "end_time": "2020-12-03T19:50:40.559585",
     "exception": false,
     "start_time": "2020-12-03T19:50:40.472066",
     "status": "completed"
    },
    "tags": []
   },
   "outputs": [],
   "source": [
    "features=[\"timestamp\",\"prior_question_elapsed_time\",\"prior_question_had_explanation\",\"mean_user\",\\\n",
    "         \"count_user\",\"mean_question\"]"
   ]
  },
  {
   "cell_type": "code",
   "execution_count": 40,
   "metadata": {
    "execution": {
     "iopub.execute_input": "2020-12-03T19:50:40.869990Z",
     "iopub.status.busy": "2020-12-03T19:50:40.869240Z",
     "iopub.status.idle": "2020-12-03T19:50:40.872812Z",
     "shell.execute_reply": "2020-12-03T19:50:40.872079Z"
    },
    "papermill": {
     "duration": 0.082845,
     "end_time": "2020-12-03T19:50:40.872933",
     "exception": false,
     "start_time": "2020-12-03T19:50:40.790088",
     "status": "completed"
    },
    "tags": []
   },
   "outputs": [],
   "source": [
    "target= \"answered_correctly\""
   ]
  },
  {
   "cell_type": "code",
   "execution_count": 41,
   "metadata": {
    "execution": {
     "iopub.execute_input": "2020-12-03T19:50:41.029321Z",
     "iopub.status.busy": "2020-12-03T19:50:41.028602Z",
     "iopub.status.idle": "2020-12-03T19:50:41.761373Z",
     "shell.execute_reply": "2020-12-03T19:50:41.760511Z"
    },
    "papermill": {
     "duration": 0.814492,
     "end_time": "2020-12-03T19:50:41.761561",
     "exception": false,
     "start_time": "2020-12-03T19:50:40.947069",
     "status": "completed"
    },
    "tags": []
   },
   "outputs": [],
   "source": [
    "tr = tr.replace([np.inf, -np.inf], np.nan)"
   ]
  },
  {
   "cell_type": "code",
   "execution_count": 42,
   "metadata": {
    "execution": {
     "iopub.execute_input": "2020-12-03T19:50:42.417581Z",
     "iopub.status.busy": "2020-12-03T19:50:42.416779Z",
     "iopub.status.idle": "2020-12-03T19:50:42.682206Z",
     "shell.execute_reply": "2020-12-03T19:50:42.681546Z"
    },
    "papermill": {
     "duration": 0.348036,
     "end_time": "2020-12-03T19:50:42.682369",
     "exception": false,
     "start_time": "2020-12-03T19:50:42.334333",
     "status": "completed"
    },
    "tags": []
   },
   "outputs": [],
   "source": [
    "tr[\"mean_user\"].fillna(0.5,inplace=True)\n",
    "tr[\"mean_question\"].fillna(0.5,inplace=True)\n",
    "tr[\"count_user\"].fillna(1,inplace=True)\n",
    "tr.fillna(0,inplace=True)"
   ]
  },
  {
   "cell_type": "markdown",
   "metadata": {
    "papermill": {
     "duration": 0.076395,
     "end_time": "2020-12-03T19:50:42.836475",
     "exception": false,
     "start_time": "2020-12-03T19:50:42.760080",
     "status": "completed"
    },
    "tags": []
   },
   "source": [
    "<h2> Tensorflow Model </h2>"
   ]
  },
  {
   "cell_type": "code",
   "execution_count": 43,
   "metadata": {
    "papermill": {
     "duration": 0.08015,
     "end_time": "2020-12-03T19:50:42.992920",
     "exception": false,
     "start_time": "2020-12-03T19:50:42.912770",
     "status": "completed"
    },
    "tags": []
   },
   "outputs": [],
   "source": [
    "## Create model funciton\n",
    "def create_model(sh):\n",
    "    inp=Input(sh)\n",
    "    md=BatchNormalization()(inp)\n",
    "    md=Dense(128,activation='relu') (md)\n",
    "    md=BatchNormalization()(md)\n",
    "    md=Dropout(0.3) (md)\n",
    "    md=Dense(64,activation='relu') (md)\n",
    "    md=BatchNormalization()(md)\n",
    "    md=Dropout(0.4) (md)\n",
    "    md=Dense(32,activation='relu') (md)\n",
    "    md= BatchNormalization() (md)\n",
    "    md=Dropout(0.4) (md)\n",
    "    md= Dense(1, activation=\"sigmoid\") (md)\n",
    "    \n",
    "    mod=Model(inputs=[inp],outputs=[md])\n",
    "    \n",
    "    return mod "
   ]
  },
  {
   "cell_type": "code",
   "execution_count": 44,
   "metadata": {
    "execution": {
     "iopub.execute_input": "2020-12-03T19:50:43.160592Z",
     "iopub.status.busy": "2020-12-03T19:50:43.159797Z",
     "iopub.status.idle": "2020-12-03T19:50:43.528561Z",
     "shell.execute_reply": "2020-12-03T19:50:43.527799Z"
    },
    "papermill": {
     "duration": 0.457288,
     "end_time": "2020-12-03T19:50:43.528715",
     "exception": false,
     "start_time": "2020-12-03T19:50:43.071427",
     "status": "completed"
    },
    "tags": []
   },
   "outputs": [],
   "source": [
    "X=tr[features]\n",
    "Y=tr[[target]]"
   ]
  },
  {
   "cell_type": "code",
   "execution_count": 45,
   "metadata": {
    "execution": {
     "iopub.execute_input": "2020-12-03T19:50:43.694637Z",
     "iopub.status.busy": "2020-12-03T19:50:43.693324Z",
     "iopub.status.idle": "2020-12-03T19:50:43.697509Z",
     "shell.execute_reply": "2020-12-03T19:50:43.698068Z"
    },
    "papermill": {
     "duration": 0.091641,
     "end_time": "2020-12-03T19:50:43.698252",
     "exception": false,
     "start_time": "2020-12-03T19:50:43.606611",
     "status": "completed"
    },
    "tags": []
   },
   "outputs": [],
   "source": [
    "del(tr)"
   ]
  },
  {
   "cell_type": "code",
   "execution_count": 46,
   "metadata": {
    "execution": {
     "iopub.execute_input": "2020-12-03T19:50:43.856687Z",
     "iopub.status.busy": "2020-12-03T19:50:43.855636Z",
     "iopub.status.idle": "2020-12-03T19:50:43.859115Z",
     "shell.execute_reply": "2020-12-03T19:50:43.858386Z"
    },
    "papermill": {
     "duration": 0.085256,
     "end_time": "2020-12-03T19:50:43.859249",
     "exception": false,
     "start_time": "2020-12-03T19:50:43.773993",
     "status": "completed"
    },
    "tags": []
   },
   "outputs": [],
   "source": [
    "sh=X.shape[1]"
   ]
  },
  {
   "cell_type": "code",
   "execution_count": 47,
   "metadata": {
    "execution": {
     "iopub.execute_input": "2020-12-03T19:50:44.050075Z",
     "iopub.status.busy": "2020-12-03T19:50:44.039466Z",
     "iopub.status.idle": "2020-12-03T19:53:11.918231Z",
     "shell.execute_reply": "2020-12-03T19:53:11.917524Z"
    },
    "papermill": {
     "duration": 147.981963,
     "end_time": "2020-12-03T19:53:11.918387",
     "exception": false,
     "start_time": "2020-12-03T19:50:43.936424",
     "status": "completed"
    },
    "tags": []
   },
   "outputs": [],
   "source": [
    "xtr,xts,ytr,yts=train_test_split(X,Y,test_size=0.2,stratify=Y)"
   ]
  },
  {
   "cell_type": "code",
   "execution_count": 48,
   "metadata": {
    "execution": {
     "iopub.execute_input": "2020-12-03T19:53:12.076650Z",
     "iopub.status.busy": "2020-12-03T19:53:12.075860Z",
     "iopub.status.idle": "2020-12-03T19:53:12.078036Z",
     "shell.execute_reply": "2020-12-03T19:53:12.078637Z"
    },
    "papermill": {
     "duration": 0.084664,
     "end_time": "2020-12-03T19:53:12.078812",
     "exception": false,
     "start_time": "2020-12-03T19:53:11.994148",
     "status": "completed"
    },
    "tags": []
   },
   "outputs": [],
   "source": [
    "del(X)\n",
    "del(Y)"
   ]
  },
  {
   "cell_type": "code",
   "execution_count": 49,
   "metadata": {
    "execution": {
     "iopub.execute_input": "2020-12-03T19:53:12.237396Z",
     "iopub.status.busy": "2020-12-03T19:53:12.236302Z",
     "iopub.status.idle": "2020-12-03T19:53:12.239929Z",
     "shell.execute_reply": "2020-12-03T19:53:12.239187Z"
    },
    "papermill": {
     "duration": 0.084802,
     "end_time": "2020-12-03T19:53:12.240059",
     "exception": false,
     "start_time": "2020-12-03T19:53:12.155257",
     "status": "completed"
    },
    "tags": []
   },
   "outputs": [],
   "source": [
    "model = create_model(sh)\n",
    "model.compile(loss= \"binary_crossentropy\",metrics=[\"accuracy\"],optimizer=\"adam\")"
   ]
  },
  {
   "cell_type": "code",
   "execution_count": 50,
   "metadata": {
    "execution": {
     "iopub.execute_input": "2020-12-03T19:53:12.397056Z",
     "iopub.status.busy": "2020-12-03T19:53:12.396205Z",
     "iopub.status.idle": "2020-12-03T19:53:12.399814Z",
     "shell.execute_reply": "2020-12-03T19:53:12.399061Z"
    },
    "papermill": {
     "duration": 0.08375,
     "end_time": "2020-12-03T19:53:12.399958",
     "exception": false,
     "start_time": "2020-12-03T19:53:12.316208",
     "status": "completed"
    },
    "tags": []
   },
   "outputs": [
    {
     "name": "stdout",
     "output_type": "stream",
     "text": [
      "Epoch 1/10\n",
      "12654/12654 [==============================] - 313s 25ms/step - loss: -345.6607 - accuracy: 0.6239 - val_loss: -887.0952 - val_accuracy: 0.7039\n",
      "Epoch 2/10\n",
      "12654/12654 [==============================] - 328s 26ms/step - loss: -1999.4045 - accuracy: 0.6198 - val_loss: -2991.6345 - val_accuracy: 0.6754\n",
      "Epoch 3/10\n",
      "12654/12654 [==============================] - 318s 25ms/step - loss: -4995.8394 - accuracy: 0.6205 - val_loss: -5374.7402 - val_accuracy: 0.7053\n",
      "Epoch 4/10\n",
      "12654/12654 [==============================] - 303s 24ms/step - loss: -9294.6816 - accuracy: 0.6193 - val_loss: -9577.9512 - val_accuracy: 0.7067\n",
      "Epoch 5/10\n",
      "12654/12654 [==============================] - 320s 25ms/step - loss: -14913.1992 - accuracy: 0.6187 - val_loss: -14349.9199 - val_accuracy: 0.6535\n",
      "Epoch 6/10\n",
      "12654/12654 [==============================] - 326s 26ms/step - loss: -21848.0195 - accuracy: 0.6194 - val_loss: -20137.6250 - val_accuracy: 0.7092\n",
      "Epoch 7/10\n",
      "12654/12654 [==============================] - 307s 24ms/step - loss: -30099.2402 - accuracy: 0.6192 - val_loss: -26029.2910 - val_accuracy: 0.6553\n",
      "Epoch 8/10\n",
      "12654/12654 [==============================] - 312s 25ms/step - loss: -39589.5703 - accuracy: 0.6186 - val_loss: -35182.5703 - val_accuracy: 0.6630\n",
      "Epoch 9/10\n",
      "12654/12654 [==============================] - 311s 25ms/step - loss: -50390.9219 - accuracy: 0.6190 - val_loss: -44277.8203 - val_accuracy: 0.6588\n",
      "Epoch 10/10\n",
      "12654/12654 [==============================] - 313s 25ms/step - loss: -62579.7930 - accuracy: 0.6190 - val_loss: -52011.3750 - val_accuracy: 0.6591\n"
     ]
    }
   ],
   "source": [
    "hist = model.fit(xtr,ytr,validation_split=0.2,epochs=10,batch_size=1024)"
   ]
  },
  {
   "cell_type": "code",
   "execution_count": 51,
   "metadata": {
    "execution": {
     "iopub.execute_input": "2020-12-03T19:53:12.558784Z",
     "iopub.status.busy": "2020-12-03T19:53:12.558005Z",
     "iopub.status.idle": "2020-12-03T19:53:12.560287Z",
     "shell.execute_reply": "2020-12-03T19:53:12.560885Z"
    },
    "papermill": {
     "duration": 0.083823,
     "end_time": "2020-12-03T19:53:12.561056",
     "exception": false,
     "start_time": "2020-12-03T19:53:12.477233",
     "status": "completed"
    },
    "tags": []
   },
   "outputs": [
    {
     "data": {
      "text/plain": [
       "array([[1.],\n",
       "       [1.],\n",
       "       [1.],\n",
       "       ...,\n",
       "       [1.],\n",
       "       [1.],\n",
       "       [1.]], dtype=float32)"
      ]
     },
     "execution_count": 51,
     "metadata": {},
     "output_type": "execute_result"
    }
   ],
   "source": [
    "ypred = model.predict(xts)\n",
    "ypred"
   ]
  },
  {
   "cell_type": "code",
   "execution_count": 52,
   "metadata": {},
   "outputs": [
    {
     "data": {
      "image/png": "[encoded data removed]",
      "text/plain": [
       "<Figure size 1152x576 with 2 Axes>"
      ]
     },
     "metadata": {},
     "output_type": "display_data"
    }
   ],
   "source": [
    "## plotting\n",
    "plt.style.use('ggplot')\n",
    "acc = hist.history['accuracy']\n",
    "val_acc = hist.history['val_accuracy']\n",
    "\n",
    "loss = hist.history['loss']\n",
    "val_loss = hist.history['val_loss']\n",
    "\n",
    "epochs_range = range(10)\n",
    "\n",
    "plt.figure(figsize=(16, 8))\n",
    "plt.subplot(1, 2, 1)\n",
    "plt.plot(epochs_range, acc, label='Training Accuracy')\n",
    "plt.plot(epochs_range, val_acc, label='Validation Accuracy')\n",
    "plt.legend(loc='lower right')\n",
    "plt.title('Training and Validation Accuracy')\n",
    "\n",
    "plt.subplot(1, 2, 2)\n",
    "plt.plot(epochs_range, loss, label='Training Loss')\n",
    "plt.plot(epochs_range, val_loss, label='Validation Loss')\n",
    "plt.legend(loc='upper right')\n",
    "plt.title('Training and Validation Loss')\n",
    "plt.show()"
   ]
  },
  {
   "cell_type": "code",
   "execution_count": 54,
   "metadata": {},
   "outputs": [],
   "source": [
    "model.save('model.h5')"
   ]
  },
  {
   "cell_type": "code",
   "execution_count": null,
   "metadata": {},
   "outputs": [],
   "source": []
  }
 ],
 "metadata": {
  "environment": {
   "name": "tf2-gpu.2-3.m69",
   "type": "gcloud",
   "uri": "gcr.io/deeplearning-platform-release/tf2-gpu.2-3:m69"
  },
  "kernelspec": {
   "display_name": "Python 3",
   "language": "python",
   "name": "python3"
  },
  "language_info": {
   "codemirror_mode": {
    "name": "ipython",
    "version": 3
   },
   "file_extension": ".py",
   "mimetype": "text/x-python",
   "name": "python",
   "nbconvert_exporter": "python",
   "pygments_lexer": "ipython3",
   "version": "3.7.10"
  },
  "papermill": {
   "duration": 2827.800436,
   "end_time": "2020-12-03T20:30:51.716672",
   "environment_variables": {},
   "exception": null,
   "input_path": "__notebook__.ipynb",
   "output_path": "__notebook__.ipynb",
   "parameters": {},
   "start_time": "2020-12-03T19:43:43.916236",
   "version": "2.1.0"
  }
 },
 "nbformat": 4,
 "nbformat_minor": 4
}
